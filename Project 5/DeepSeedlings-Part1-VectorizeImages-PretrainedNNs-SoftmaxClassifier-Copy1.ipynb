{
 "cells": [
  {
   "cell_type": "markdown",
   "metadata": {},
   "source": [
    "# DeepSeedlings: CNN\n",
    "Using pre-trained Tensorflow CNNs (with the last layer 'cut' off) to vectorize images."
   ]
  },
  {
   "cell_type": "code",
   "execution_count": 1,
   "metadata": {
    "scrolled": true
   },
   "outputs": [
    {
     "name": "stderr",
     "output_type": "stream",
     "text": [
      "/home/ubuntu/anaconda3/envs/tensorflow_p36/lib/python3.6/site-packages/matplotlib/__init__.py:962: UserWarning: Duplicate key in file \"/home/ubuntu/.config/matplotlib/matplotlibrc\", line #2\n",
      "  (fname, cnt))\n",
      "/home/ubuntu/anaconda3/envs/tensorflow_p36/lib/python3.6/site-packages/matplotlib/__init__.py:962: UserWarning: Duplicate key in file \"/home/ubuntu/.config/matplotlib/matplotlibrc\", line #3\n",
      "  (fname, cnt))\n",
      "/home/ubuntu/anaconda3/envs/tensorflow_p36/lib/python3.6/site-packages/h5py/__init__.py:36: FutureWarning: Conversion of the second argument of issubdtype from `float` to `np.floating` is deprecated. In future, it will be treated as `np.float64 == np.dtype(float).type`.\n",
      "  from ._conv import register_converters as _register_converters\n",
      "Using TensorFlow backend.\n"
     ]
    }
   ],
   "source": [
    "%matplotlib inline\n",
    "import datetime as dt\n",
    "import matplotlib.pyplot as plt\n",
    "plt.rcParams['figure.figsize'] = [16, 10]\n",
    "plt.rcParams['font.size'] = 16\n",
    "import numpy as np\n",
    "import os\n",
    "import pandas as pd\n",
    "import cv2\n",
    "import seaborn as sns\n",
    "import keras\n",
    "from keras import backend as K\n",
    "from keras.applications import xception\n",
    "from keras.preprocessing import image\n",
    "from mpl_toolkits.axes_grid1 import ImageGrid\n",
    "from keras.callbacks import TensorBoard, ModelCheckpoint, LearningRateScheduler\n",
    "from keras.regularizers import l2\n",
    "#from sklearn.linear_model import LogisticRegression\n",
    "from sklearn.metrics import confusion_matrix, roc_curve, auc, classification_report\n",
    "#from sklearn.cross_validation import train_test_split\n",
    "#from tqdm import tqdm\n",
    "import pickle"
   ]
  },
  {
   "cell_type": "code",
   "execution_count": 2,
   "metadata": {},
   "outputs": [],
   "source": [
    "x_train_valid_bf = np.load(os.path.join(os.getcwd(),'x_train_valid_bf.npy'))\n",
    "y_train_valid = np.load(os.path.join(os.getcwd(),'y_train_valid.npy'))"
   ]
  },
  {
   "cell_type": "code",
   "execution_count": 3,
   "metadata": {},
   "outputs": [],
   "source": [
    "x_test_bf = np.load(os.path.join(os.getcwd(),'x_test_bf.npy'))"
   ]
  },
  {
   "cell_type": "markdown",
   "metadata": {},
   "source": [
    "# Prep Train/Validation Data\n",
    "- shuffle\n",
    "- train/validation split"
   ]
  },
  {
   "cell_type": "code",
   "execution_count": 4,
   "metadata": {},
   "outputs": [],
   "source": [
    "# use one-hot encoding for categorial labels\n",
    "def dense_to_one_hot(labels_dense, num_classes):\n",
    "    num_labels = labels_dense.shape[0]\n",
    "    index_offset = np.arange(num_labels) * num_classes\n",
    "    labels_one_hot = np.zeros((num_labels, num_classes))\n",
    "    labels_one_hot.flat[index_offset + labels_dense.ravel()] = 1\n",
    "    return labels_one_hot\n",
    "\n",
    "def one_hot_to_dense(labels_one_hot):\n",
    "    num_labels = labels_one_hot.shape[0]\n",
    "    num_classes = labels_one_hot.shape[1]\n",
    "    labels_dense = np.where(labels_one_hot == 1)[1]      \n",
    "    return labels_dense\n",
    "\n",
    "# function to shuffle randomly train and validation data\n",
    "def shuffle_train_valid_data(x_train_valid):\n",
    "    \n",
    "    print('shuffle train and validation data')\n",
    "    \n",
    "    # shuffle train and validation data of original data\n",
    "    perm_array = np.arange(len(x_train_valid)) \n",
    "    np.random.shuffle(perm_array)\n",
    "    \n",
    "    # split train and validation sets based on original data\n",
    "    x_train = x_train_valid[perm_array[:train_set_size]]\n",
    "    y_train = dense_to_one_hot(y_train_valid[perm_array[:train_set_size]], num_classes = 12)\n",
    "    x_valid = x_train_valid[perm_array[-valid_set_size:]]\n",
    "    y_valid = dense_to_one_hot(y_train_valid[perm_array[-valid_set_size:]], num_classes = 12)\n",
    "         \n",
    "    return x_train, y_train, x_valid, y_valid "
   ]
  },
  {
   "cell_type": "code",
   "execution_count": 5,
   "metadata": {},
   "outputs": [],
   "source": [
    "# split into train and validation sets\n",
    "valid_set_size_percentage = 10\n",
    "valid_set_size = int(len(x_train_valid_bf) * valid_set_size_percentage/100);\n",
    "train_set_size = len(x_train_valid_bf) - valid_set_size"
   ]
  },
  {
   "cell_type": "code",
   "execution_count": 6,
   "metadata": {},
   "outputs": [
    {
     "name": "stdout",
     "output_type": "stream",
     "text": [
      "shuffle train and validation data\n"
     ]
    }
   ],
   "source": [
    "# shuffle and train/validation split\n",
    "x_train_bf, y_train, x_valid_bf, y_valid = shuffle_train_valid_data(x_train_valid_bf) "
   ]
  },
  {
   "cell_type": "code",
   "execution_count": 7,
   "metadata": {},
   "outputs": [
    {
     "name": "stdout",
     "output_type": "stream",
     "text": [
      "x_train_bf.shape =  (2160, 2048)\n",
      "y_train.shape =  (2160, 12)\n",
      "x_valid_bf.shape =  (240, 2048)\n",
      "y_valid.shape =  (240, 12)\n"
     ]
    }
   ],
   "source": [
    "print('x_train_bf.shape = ', x_train_bf.shape)\n",
    "print('y_train.shape = ', y_train.shape)\n",
    "print('x_valid_bf.shape = ', x_valid_bf.shape)\n",
    "print('y_valid.shape = ', y_valid.shape)"
   ]
  },
  {
   "cell_type": "code",
   "execution_count": 8,
   "metadata": {},
   "outputs": [],
   "source": [
    "from keras import backend as K\n",
    "\n",
    "def recall(y_true, y_pred):\n",
    "    \"\"\"Recall metric.\n",
    "\n",
    "    Only computes a batch-wise average of recall.\n",
    "\n",
    "    Computes the recall, a metric for multi-label classification of\n",
    "    how many relevant items are selected.\n",
    "    \"\"\"\n",
    "    true_positives = K.sum(K.round(K.clip(y_true * y_pred, 0, 1)))\n",
    "    possible_positives = K.sum(K.round(K.clip(y_true, 0, 1)))\n",
    "    recall = true_positives / (possible_positives + K.epsilon())\n",
    "    return recall\n",
    "\n",
    "\n",
    "def precision(y_true, y_pred):\n",
    "    \"\"\"Precision metric.\n",
    "\n",
    "    Only computes a batch-wise average of precision.\n",
    "\n",
    "    Computes the precision, a metric for multi-label classification of\n",
    "    how many selected items are relevant.\n",
    "    \"\"\"\n",
    "    true_positives = K.sum(K.round(K.clip(y_true * y_pred, 0, 1)))\n",
    "    predicted_positives = K.sum(K.round(K.clip(y_pred, 0, 1)))\n",
    "    precision = true_positives / (predicted_positives + K.epsilon())\n",
    "    return precision\n",
    "\n",
    "\n",
    "def f1(y_true, y_pred):\n",
    "    def recall(y_true, y_pred):\n",
    "        \"\"\"Recall metric.\n",
    "\n",
    "        Only computes a batch-wise average of recall.\n",
    "\n",
    "        Computes the recall, a metric for multi-label classification of\n",
    "        how many relevant items are selected.\n",
    "        \"\"\"\n",
    "        true_positives = K.sum(K.round(K.clip(y_true * y_pred, 0, 1)))\n",
    "        possible_positives = K.sum(K.round(K.clip(y_true, 0, 1)))\n",
    "        recall = true_positives / (possible_positives + K.epsilon())\n",
    "        return recall\n",
    "\n",
    "    def precision(y_true, y_pred):\n",
    "        \"\"\"Precision metric.\n",
    "\n",
    "        Only computes a batch-wise average of precision.\n",
    "\n",
    "        Computes the precision, a metric for multi-label classification of\n",
    "        how many selected items are relevant.\n",
    "        \"\"\"\n",
    "        true_positives = K.sum(K.round(K.clip(y_true * y_pred, 0, 1)))\n",
    "        predicted_positives = K.sum(K.round(K.clip(y_pred, 0, 1)))\n",
    "        precision = true_positives / (predicted_positives + K.epsilon())\n",
    "        return precision\n",
    "    precision = precision(y_true, y_pred)\n",
    "    recall = recall(y_true, y_pred)\n",
    "    return 2*((precision*recall)/(precision+recall))\n",
    "\n",
    "\n"
   ]
  },
  {
   "cell_type": "code",
   "execution_count": 9,
   "metadata": {},
   "outputs": [],
   "source": [
    "# lr decay schedule\n",
    "def lr_schedule(epoch):\n",
    "    \"\"\"Learning Rate Schedule\n",
    "    Learning rate is scheduled to be reduced after 80, 120epochs.\n",
    "    Called automatically every epoch as part of callbacks during training.\n",
    "    # Arguments\n",
    "        epoch (int): The number of epochs\n",
    "    # Returns\n",
    "        lr (float32): learning rate\n",
    "    \"\"\"\n",
    "    lr = 0.0001\n",
    "    if epoch > 20 :\n",
    "        lr *= 1e-1\n",
    "    #elif epoch > 15 :\n",
    "    #    lr *= 1e-2\n",
    "\n",
    "    print('Learning rate: ', lr)\n",
    "    return lr"
   ]
  },
  {
   "cell_type": "markdown",
   "metadata": {},
   "source": [
    "## Xception CNN  with additional layers\n",
    "(best results)"
   ]
  },
  {
   "cell_type": "code",
   "execution_count": 10,
   "metadata": {},
   "outputs": [],
   "source": [
    "x_size = x_train_bf.shape[1] # features \n",
    "y_size = 12"
   ]
  },
  {
   "cell_type": "code",
   "execution_count": 11,
   "metadata": {},
   "outputs": [
    {
     "name": "stdout",
     "output_type": "stream",
     "text": [
      "_________________________________________________________________\n",
      "Layer (type)                 Output Shape              Param #   \n",
      "=================================================================\n",
      "dense_1 (Dense)              (None, 1024)              2098176   \n",
      "_________________________________________________________________\n",
      "dropout_1 (Dropout)          (None, 1024)              0         \n",
      "_________________________________________________________________\n",
      "dense_2 (Dense)              (None, 256)               262400    \n",
      "_________________________________________________________________\n",
      "dropout_2 (Dropout)          (None, 256)               0         \n",
      "_________________________________________________________________\n",
      "dense_3 (Dense)              (None, 12)                3084      \n",
      "=================================================================\n",
      "Total params: 2,363,660\n",
      "Trainable params: 2,363,660\n",
      "Non-trainable params: 0\n",
      "_________________________________________________________________\n"
     ]
    }
   ],
   "source": [
    "from keras import models\n",
    "from keras import layers\n",
    "from keras import optimizers\n",
    " \n",
    "# Create the model\n",
    "model = models.Sequential()\n",
    " \n",
    "# Add the vgg convolutional base model\n",
    "#model.add(x_conv)\n",
    " \n",
    "# Add new layers\n",
    "#model.add(layers.Flatten())\n",
    "model.add(layers.Dense(1024, input_dim = x_size, activation='relu'))\n",
    "model.add(layers.Dropout(0.33))\n",
    "model.add(layers.Dense(256, activation='relu'))\n",
    "model.add(layers.Dropout(0.33))\n",
    "model.add(layers.Dense(12, activation='softmax'))\n",
    " \n",
    "# Show a summary of the model. Check the number of trainable parameters\n",
    "model.summary()"
   ]
  },
  {
   "cell_type": "code",
   "execution_count": 12,
   "metadata": {},
   "outputs": [
    {
     "data": {
      "text/plain": [
       "0.0001"
      ]
     },
     "execution_count": 12,
     "metadata": {},
     "output_type": "execute_result"
    }
   ],
   "source": [
    "1e-4"
   ]
  },
  {
   "cell_type": "code",
   "execution_count": 13,
   "metadata": {
    "scrolled": false
   },
   "outputs": [
    {
     "name": "stdout",
     "output_type": "stream",
     "text": [
      "Learning rate:  0.0001\n",
      "Train on 2160 samples, validate on 240 samples\n",
      "Epoch 1/40\n",
      "Learning rate:  0.0001\n",
      "2160/2160 [==============================] - 1s 304us/step - loss: 1.7636 - acc: 0.4569 - precision: 0.4144 - recall: 0.0449 - f1: nan - val_loss: 1.0692 - val_acc: 0.7125 - val_precision: 0.9376 - val_recall: 0.2542 - val_f1: 0.3967\n",
      "\n",
      "Epoch 00001: val_loss improved from inf to 1.06919, saving model to /tmp/weights.01-1.07.hdf5\n",
      "Epoch 2/40\n",
      "Learning rate:  0.0001\n",
      "2160/2160 [==============================] - 0s 191us/step - loss: 1.0155 - acc: 0.6880 - precision: 0.8474 - recall: 0.3958 - f1: 0.5285 - val_loss: 0.7325 - val_acc: 0.7500 - val_precision: 0.8688 - val_recall: 0.6083 - val_f1: 0.7141\n",
      "\n",
      "Epoch 00002: val_loss improved from 1.06919 to 0.73254, saving model to /tmp/weights.02-0.73.hdf5\n",
      "Epoch 3/40\n",
      "Learning rate:  0.0001\n",
      "2160/2160 [==============================] - 0s 190us/step - loss: 0.7456 - acc: 0.7551 - precision: 0.8456 - recall: 0.6097 - f1: 0.7057 - val_loss: 0.5484 - val_acc: 0.8042 - val_precision: 0.8592 - val_recall: 0.6958 - val_f1: 0.7673\n",
      "\n",
      "Epoch 00003: val_loss improved from 0.73254 to 0.54845, saving model to /tmp/weights.03-0.55.hdf5\n",
      "Epoch 4/40\n",
      "Learning rate:  0.0001\n",
      "2160/2160 [==============================] - 0s 190us/step - loss: 0.6188 - acc: 0.7852 - precision: 0.8501 - recall: 0.6917 - f1: 0.7615 - val_loss: 0.4610 - val_acc: 0.8333 - val_precision: 0.8809 - val_recall: 0.7750 - val_f1: 0.8234\n",
      "\n",
      "Epoch 00004: val_loss improved from 0.54845 to 0.46101, saving model to /tmp/weights.04-0.46.hdf5\n",
      "Epoch 5/40\n",
      "Learning rate:  0.0001\n",
      "2160/2160 [==============================] - 0s 191us/step - loss: 0.5268 - acc: 0.8319 - precision: 0.8822 - recall: 0.7644 - f1: 0.8181 - val_loss: 0.3964 - val_acc: 0.8500 - val_precision: 0.8843 - val_recall: 0.8167 - val_f1: 0.8486\n",
      "\n",
      "Epoch 00005: val_loss improved from 0.46101 to 0.39639, saving model to /tmp/weights.05-0.40.hdf5\n",
      "Epoch 6/40\n",
      "Learning rate:  0.0001\n",
      "2160/2160 [==============================] - 0s 190us/step - loss: 0.4500 - acc: 0.8560 - precision: 0.9010 - recall: 0.7972 - f1: 0.8449 - val_loss: 0.3630 - val_acc: 0.8583 - val_precision: 0.8753 - val_recall: 0.8167 - val_f1: 0.8447\n",
      "\n",
      "Epoch 00006: val_loss improved from 0.39639 to 0.36297, saving model to /tmp/weights.06-0.36.hdf5\n",
      "Epoch 7/40\n",
      "Learning rate:  0.0001\n",
      "2160/2160 [==============================] - 0s 190us/step - loss: 0.4055 - acc: 0.8648 - precision: 0.9013 - recall: 0.8185 - f1: 0.8570 - val_loss: 0.3695 - val_acc: 0.8417 - val_precision: 0.8689 - val_recall: 0.8167 - val_f1: 0.8417\n",
      "\n",
      "Epoch 00007: val_loss did not improve\n",
      "Epoch 8/40\n",
      "Learning rate:  0.0001\n",
      "2160/2160 [==============================] - 0s 188us/step - loss: 0.3694 - acc: 0.8787 - precision: 0.9053 - recall: 0.8440 - f1: 0.8730 - val_loss: 0.3237 - val_acc: 0.8667 - val_precision: 0.8749 - val_recall: 0.8417 - val_f1: 0.8578\n",
      "\n",
      "Epoch 00008: val_loss improved from 0.36297 to 0.32367, saving model to /tmp/weights.08-0.32.hdf5\n",
      "Epoch 9/40\n",
      "Learning rate:  0.0001\n",
      "2160/2160 [==============================] - 0s 191us/step - loss: 0.3253 - acc: 0.8995 - precision: 0.9230 - recall: 0.8713 - f1: 0.8960 - val_loss: 0.3204 - val_acc: 0.8667 - val_precision: 0.9078 - val_recall: 0.8583 - val_f1: 0.8822\n",
      "\n",
      "Epoch 00009: val_loss improved from 0.32367 to 0.32035, saving model to /tmp/weights.09-0.32.hdf5\n",
      "Epoch 10/40\n",
      "Learning rate:  0.0001\n",
      "2160/2160 [==============================] - 0s 196us/step - loss: 0.3148 - acc: 0.8935 - precision: 0.9172 - recall: 0.8644 - f1: 0.8896 - val_loss: 0.3215 - val_acc: 0.8750 - val_precision: 0.8970 - val_recall: 0.8667 - val_f1: 0.8813\n",
      "\n",
      "Epoch 00010: val_loss did not improve\n",
      "Epoch 11/40\n",
      "Learning rate:  0.0001\n",
      "2160/2160 [==============================] - 0s 192us/step - loss: 0.2776 - acc: 0.9125 - precision: 0.9312 - recall: 0.8866 - f1: 0.9079 - val_loss: 0.2969 - val_acc: 0.8792 - val_precision: 0.9001 - val_recall: 0.8625 - val_f1: 0.8807\n",
      "\n",
      "Epoch 00011: val_loss improved from 0.32035 to 0.29687, saving model to /tmp/weights.11-0.30.hdf5\n",
      "Epoch 12/40\n",
      "Learning rate:  0.0001\n",
      "2160/2160 [==============================] - 0s 191us/step - loss: 0.2457 - acc: 0.9315 - precision: 0.9486 - recall: 0.9097 - f1: 0.9285 - val_loss: 0.3120 - val_acc: 0.8792 - val_precision: 0.8968 - val_recall: 0.8625 - val_f1: 0.8790\n",
      "\n",
      "Epoch 00012: val_loss did not improve\n",
      "Epoch 13/40\n",
      "Learning rate:  0.0001\n",
      "2160/2160 [==============================] - 0s 191us/step - loss: 0.2353 - acc: 0.9264 - precision: 0.9389 - recall: 0.9056 - f1: 0.9217 - val_loss: 0.3156 - val_acc: 0.8750 - val_precision: 0.8931 - val_recall: 0.8583 - val_f1: 0.8751\n",
      "\n",
      "Epoch 00013: val_loss did not improve\n",
      "Epoch 14/40\n",
      "Learning rate:  0.0001\n",
      "2160/2160 [==============================] - 0s 191us/step - loss: 0.2169 - acc: 0.9292 - precision: 0.9432 - recall: 0.9144 - f1: 0.9284 - val_loss: 0.3076 - val_acc: 0.8833 - val_precision: 0.8976 - val_recall: 0.8667 - val_f1: 0.8815\n",
      "\n",
      "Epoch 00014: val_loss did not improve\n",
      "Epoch 15/40\n",
      "Learning rate:  0.0001\n",
      "2160/2160 [==============================] - 0s 190us/step - loss: 0.1971 - acc: 0.9421 - precision: 0.9563 - recall: 0.9269 - f1: 0.9411 - val_loss: 0.2846 - val_acc: 0.8833 - val_precision: 0.8936 - val_recall: 0.8667 - val_f1: 0.8796\n",
      "\n",
      "Epoch 00015: val_loss improved from 0.29687 to 0.28459, saving model to /tmp/weights.15-0.28.hdf5\n",
      "Epoch 16/40\n",
      "Learning rate:  0.0001\n",
      "2160/2160 [==============================] - 0s 188us/step - loss: 0.1902 - acc: 0.9403 - precision: 0.9498 - recall: 0.9208 - f1: 0.9348 - val_loss: 0.2864 - val_acc: 0.8917 - val_precision: 0.9027 - val_recall: 0.8833 - val_f1: 0.8928\n",
      "\n",
      "Epoch 00016: val_loss did not improve\n",
      "Epoch 17/40\n",
      "Learning rate:  0.0001\n",
      "2160/2160 [==============================] - 0s 190us/step - loss: 0.1671 - acc: 0.9495 - precision: 0.9569 - recall: 0.9384 - f1: 0.9474 - val_loss: 0.2975 - val_acc: 0.8792 - val_precision: 0.8962 - val_recall: 0.8542 - val_f1: 0.8743\n",
      "\n",
      "Epoch 00017: val_loss did not improve\n",
      "Epoch 18/40\n",
      "Learning rate:  0.0001\n",
      "2160/2160 [==============================] - 0s 189us/step - loss: 0.1557 - acc: 0.9537 - precision: 0.9626 - recall: 0.9417 - f1: 0.9519 - val_loss: 0.2886 - val_acc: 0.8917 - val_precision: 0.9021 - val_recall: 0.8792 - val_f1: 0.8904\n",
      "\n",
      "Epoch 00018: val_loss did not improve\n",
      "Epoch 19/40\n",
      "Learning rate:  0.0001\n",
      "2160/2160 [==============================] - 0s 191us/step - loss: 0.1494 - acc: 0.9532 - precision: 0.9599 - recall: 0.9435 - f1: 0.9515 - val_loss: 0.2891 - val_acc: 0.8875 - val_precision: 0.8934 - val_recall: 0.8708 - val_f1: 0.8819\n",
      "\n",
      "Epoch 00019: val_loss did not improve\n",
      "Epoch 20/40\n",
      "Learning rate:  0.0001\n",
      "2160/2160 [==============================] - 0s 191us/step - loss: 0.1377 - acc: 0.9569 - precision: 0.9668 - recall: 0.9468 - f1: 0.9565 - val_loss: 0.2860 - val_acc: 0.8833 - val_precision: 0.9056 - val_recall: 0.8792 - val_f1: 0.8920\n",
      "\n",
      "Epoch 00020: val_loss did not improve\n",
      "Epoch 21/40\n",
      "Learning rate:  0.0001\n",
      "2160/2160 [==============================] - 0s 189us/step - loss: 0.1204 - acc: 0.9602 - precision: 0.9666 - recall: 0.9528 - f1: 0.9595 - val_loss: 0.2965 - val_acc: 0.8750 - val_precision: 0.8892 - val_recall: 0.8708 - val_f1: 0.8799\n",
      "\n",
      "Epoch 00021: val_loss did not improve\n",
      "Epoch 22/40\n",
      "Learning rate:  1e-05\n",
      "2160/2160 [==============================] - 0s 188us/step - loss: 0.1124 - acc: 0.9639 - precision: 0.9727 - recall: 0.9556 - f1: 0.9639 - val_loss: 0.2655 - val_acc: 0.9083 - val_precision: 0.9242 - val_recall: 0.9083 - val_f1: 0.9161\n",
      "\n",
      "Epoch 00022: val_loss improved from 0.28459 to 0.26546, saving model to /tmp/weights.22-0.27.hdf5\n",
      "Epoch 23/40\n",
      "Learning rate:  1e-05\n",
      "2160/2160 [==============================] - 0s 192us/step - loss: 0.1003 - acc: 0.9727 - precision: 0.9762 - recall: 0.9671 - f1: 0.9716 - val_loss: 0.2707 - val_acc: 0.9125 - val_precision: 0.9196 - val_recall: 0.9000 - val_f1: 0.9096\n",
      "\n",
      "Epoch 00023: val_loss did not improve\n",
      "Epoch 24/40\n",
      "Learning rate:  1e-05\n",
      "2160/2160 [==============================] - 0s 192us/step - loss: 0.0999 - acc: 0.9745 - precision: 0.9758 - recall: 0.9681 - f1: 0.9718 - val_loss: 0.2720 - val_acc: 0.9167 - val_precision: 0.9235 - val_recall: 0.9042 - val_f1: 0.9137\n",
      "\n",
      "Epoch 00024: val_loss did not improve\n",
      "Epoch 25/40\n",
      "Learning rate:  1e-05\n"
     ]
    },
    {
     "name": "stdout",
     "output_type": "stream",
     "text": [
      "2160/2160 [==============================] - 0s 193us/step - loss: 0.0932 - acc: 0.9764 - precision: 0.9796 - recall: 0.9745 - f1: 0.9770 - val_loss: 0.2773 - val_acc: 0.9083 - val_precision: 0.9197 - val_recall: 0.9000 - val_f1: 0.9096\n",
      "\n",
      "Epoch 00025: val_loss did not improve\n",
      "Epoch 26/40\n",
      "Learning rate:  1e-05\n",
      "2160/2160 [==============================] - 0s 190us/step - loss: 0.0940 - acc: 0.9755 - precision: 0.9817 - recall: 0.9694 - f1: 0.9754 - val_loss: 0.2762 - val_acc: 0.9125 - val_precision: 0.9238 - val_recall: 0.9042 - val_f1: 0.9138\n",
      "\n",
      "Epoch 00026: val_loss did not improve\n",
      "Epoch 27/40\n",
      "Learning rate:  1e-05\n",
      "2160/2160 [==============================] - 0s 191us/step - loss: 0.0936 - acc: 0.9759 - precision: 0.9785 - recall: 0.9718 - f1: 0.9751 - val_loss: 0.2778 - val_acc: 0.9083 - val_precision: 0.9161 - val_recall: 0.9042 - val_f1: 0.9101\n",
      "\n",
      "Epoch 00027: val_loss did not improve\n",
      "Epoch 28/40\n",
      "Learning rate:  1e-05\n",
      "2160/2160 [==============================] - 0s 196us/step - loss: 0.0935 - acc: 0.9727 - precision: 0.9784 - recall: 0.9690 - f1: 0.9736 - val_loss: 0.2767 - val_acc: 0.9125 - val_precision: 0.9239 - val_recall: 0.9042 - val_f1: 0.9138\n",
      "\n",
      "Epoch 00028: val_loss did not improve\n",
      "Epoch 29/40\n",
      "Learning rate:  1e-05\n",
      "2160/2160 [==============================] - 0s 192us/step - loss: 0.0905 - acc: 0.9745 - precision: 0.9780 - recall: 0.9676 - f1: 0.9727 - val_loss: 0.2782 - val_acc: 0.9167 - val_precision: 0.9240 - val_recall: 0.9042 - val_f1: 0.9138\n",
      "\n",
      "Epoch 00029: val_loss did not improve\n",
      "Epoch 30/40\n",
      "Learning rate:  1e-05\n",
      "2160/2160 [==============================] - 0s 192us/step - loss: 0.0894 - acc: 0.9736 - precision: 0.9804 - recall: 0.9704 - f1: 0.9753 - val_loss: 0.2778 - val_acc: 0.9083 - val_precision: 0.9114 - val_recall: 0.8958 - val_f1: 0.9034\n",
      "\n",
      "Epoch 00030: val_loss did not improve\n",
      "Epoch 31/40\n",
      "Learning rate:  1e-05\n",
      "2160/2160 [==============================] - 0s 190us/step - loss: 0.0850 - acc: 0.9764 - precision: 0.9785 - recall: 0.9727 - f1: 0.9756 - val_loss: 0.2775 - val_acc: 0.9083 - val_precision: 0.9197 - val_recall: 0.9000 - val_f1: 0.9096\n",
      "\n",
      "Epoch 00031: val_loss did not improve\n",
      "Epoch 32/40\n",
      "Learning rate:  1e-05\n",
      "2160/2160 [==============================] - 0s 190us/step - loss: 0.0848 - acc: 0.9787 - precision: 0.9823 - recall: 0.9750 - f1: 0.9786 - val_loss: 0.2770 - val_acc: 0.9125 - val_precision: 0.9240 - val_recall: 0.9042 - val_f1: 0.9138\n",
      "\n",
      "Epoch 00032: val_loss did not improve\n",
      "Epoch 33/40\n",
      "Learning rate:  1e-05\n",
      "2160/2160 [==============================] - 0s 193us/step - loss: 0.0772 - acc: 0.9838 - precision: 0.9860 - recall: 0.9796 - f1: 0.9827 - val_loss: 0.2815 - val_acc: 0.9083 - val_precision: 0.9192 - val_recall: 0.8958 - val_f1: 0.9072\n",
      "\n",
      "Epoch 00033: val_loss did not improve\n",
      "Epoch 34/40\n",
      "Learning rate:  1e-05\n",
      "2160/2160 [==============================] - 0s 192us/step - loss: 0.0758 - acc: 0.9833 - precision: 0.9873 - recall: 0.9796 - f1: 0.9834 - val_loss: 0.2828 - val_acc: 0.9083 - val_precision: 0.9158 - val_recall: 0.9000 - val_f1: 0.9077\n",
      "\n",
      "Epoch 00034: val_loss did not improve\n",
      "Epoch 35/40\n",
      "Learning rate:  1e-05\n",
      "2160/2160 [==============================] - 0s 189us/step - loss: 0.0786 - acc: 0.9806 - precision: 0.9841 - recall: 0.9764 - f1: 0.9801 - val_loss: 0.2840 - val_acc: 0.9083 - val_precision: 0.9200 - val_recall: 0.9042 - val_f1: 0.9119\n",
      "\n",
      "Epoch 00035: val_loss did not improve\n",
      "Epoch 36/40\n",
      "Learning rate:  1e-05\n",
      "2160/2160 [==============================] - 0s 190us/step - loss: 0.0798 - acc: 0.9819 - precision: 0.9846 - recall: 0.9764 - f1: 0.9804 - val_loss: 0.2792 - val_acc: 0.9083 - val_precision: 0.9200 - val_recall: 0.9042 - val_f1: 0.9119\n",
      "\n",
      "Epoch 00036: val_loss did not improve\n",
      "Epoch 37/40\n",
      "Learning rate:  1e-05\n",
      "2160/2160 [==============================] - 0s 192us/step - loss: 0.0765 - acc: 0.9801 - precision: 0.9823 - recall: 0.9764 - f1: 0.9793 - val_loss: 0.2778 - val_acc: 0.9125 - val_precision: 0.9240 - val_recall: 0.9042 - val_f1: 0.9138\n",
      "\n",
      "Epoch 00037: val_loss did not improve\n",
      "Epoch 38/40\n",
      "Learning rate:  1e-05\n",
      "2160/2160 [==============================] - 0s 190us/step - loss: 0.0768 - acc: 0.9819 - precision: 0.9851 - recall: 0.9792 - f1: 0.9821 - val_loss: 0.2776 - val_acc: 0.9125 - val_precision: 0.9160 - val_recall: 0.9042 - val_f1: 0.9099\n",
      "\n",
      "Epoch 00038: val_loss did not improve\n",
      "Epoch 39/40\n",
      "Learning rate:  1e-05\n",
      "2160/2160 [==============================] - 0s 191us/step - loss: 0.0795 - acc: 0.9796 - precision: 0.9823 - recall: 0.9731 - f1: 0.9776 - val_loss: 0.2738 - val_acc: 0.9083 - val_precision: 0.9197 - val_recall: 0.9000 - val_f1: 0.9096\n",
      "\n",
      "Epoch 00039: val_loss did not improve\n",
      "Epoch 40/40\n",
      "Learning rate:  1e-05\n",
      "2160/2160 [==============================] - 0s 189us/step - loss: 0.0750 - acc: 0.9829 - precision: 0.9847 - recall: 0.9769 - f1: 0.9807 - val_loss: 0.2744 - val_acc: 0.9167 - val_precision: 0.9242 - val_recall: 0.9083 - val_f1: 0.9161\n",
      "\n",
      "Epoch 00040: val_loss did not improve\n"
     ]
    }
   ],
   "source": [
    "# Callbacks\n",
    "tensorboard = TensorBoard(log_dir = './logs')\n",
    "\n",
    "checkpointer = ModelCheckpoint(filepath='/tmp/weights.{epoch:02d}-{val_loss:.2f}.hdf5', verbose=1, save_best_only=True)\n",
    "\n",
    "\n",
    "# Compile the model\n",
    "\n",
    "\n",
    "model.compile(loss='categorical_crossentropy',\n",
    "              optimizer=optimizers.RMSprop(lr=lr_schedule(0)),\n",
    "              metrics=['acc', precision, recall, f1])\n",
    "\n",
    "lr = LearningRateScheduler(lr_schedule)\n",
    "# Train the model\n",
    "\n",
    " \n",
    "history = model.fit(x=x_train_bf, y=y_train,  epochs=40, verbose=1, validation_data=(x_valid_bf, y_valid), callbacks = [tensorboard, checkpointer, lr])\n",
    "                    #callbacks=None, validation_split=0.0, validation_data=None, shuffle=True, \n",
    "                    #class_weight=None, sample_weight=None, initial_epoch=0, steps_per_epoch=None)\n",
    "# Save the model\n",
    "#model.save('small_last4.h5')"
   ]
  },
  {
   "cell_type": "code",
   "execution_count": 14,
   "metadata": {},
   "outputs": [],
   "source": [
    "model.save('xception_seedlings.h5')"
   ]
  },
  {
   "cell_type": "markdown",
   "metadata": {},
   "source": [
    "# Results"
   ]
  },
  {
   "cell_type": "code",
   "execution_count": 15,
   "metadata": {},
   "outputs": [
    {
     "name": "stdout",
     "output_type": "stream",
     "text": [
      "240/240 [==============================] - 0s 124us/step\n"
     ]
    }
   ],
   "source": [
    "y_valid_predict_proba = model.predict(x_valid_bf, verbose =1)"
   ]
  },
  {
   "cell_type": "code",
   "execution_count": 16,
   "metadata": {},
   "outputs": [],
   "source": [
    "y_valid_predict_species = []\n",
    "for pred in y_valid_predict_proba:\n",
    "    y_valid_predict_species.append(np.argmax(pred))"
   ]
  },
  {
   "cell_type": "code",
   "execution_count": 17,
   "metadata": {},
   "outputs": [],
   "source": [
    "cnf_matrix = confusion_matrix(one_hot_to_dense(y_valid), y_valid_predict_species)"
   ]
  },
  {
   "cell_type": "code",
   "execution_count": 18,
   "metadata": {},
   "outputs": [
    {
     "data": {
      "text/plain": [
       "array([[14,  0,  0,  0,  1,  0,  6,  0,  0,  0,  0,  0],\n",
       "       [ 0, 19,  0,  0,  0,  0,  0,  0,  0,  0,  0,  0],\n",
       "       [ 0,  1, 21,  0,  0,  0,  0,  0,  0,  0,  0,  0],\n",
       "       [ 0,  0,  0, 20,  0,  1,  0,  0,  0,  0,  0,  0],\n",
       "       [ 0,  0,  0,  0, 17,  0,  0,  0,  0,  0,  0,  0],\n",
       "       [ 0,  0,  0,  0,  0, 22,  0,  0,  0,  0,  0,  0],\n",
       "       [ 5,  0,  0,  0,  0,  0, 12,  0,  0,  0,  0,  0],\n",
       "       [ 0,  1,  0,  0,  0,  0,  0, 26,  0,  0,  0,  0],\n",
       "       [ 0,  0,  0,  0,  0,  0,  0,  0, 13,  0,  0,  0],\n",
       "       [ 0,  0,  1,  0,  0,  0,  0,  0,  2, 25,  0,  0],\n",
       "       [ 0,  0,  0,  0,  0,  0,  0,  0,  0,  0, 14,  0],\n",
       "       [ 0,  0,  0,  0,  0,  0,  0,  2,  0,  0,  0, 17]])"
      ]
     },
     "execution_count": 18,
     "metadata": {},
     "output_type": "execute_result"
    }
   ],
   "source": [
    "cnf_matrix"
   ]
  },
  {
   "cell_type": "code",
   "execution_count": 19,
   "metadata": {},
   "outputs": [
    {
     "name": "stdout",
     "output_type": "stream",
     "text": [
      "             precision    recall  f1-score   support\n",
      "\n",
      "          0       0.74      0.67      0.70        21\n",
      "          1       0.90      1.00      0.95        19\n",
      "          2       0.95      0.95      0.95        22\n",
      "          3       1.00      0.95      0.98        21\n",
      "          4       0.94      1.00      0.97        17\n",
      "          5       0.96      1.00      0.98        22\n",
      "          6       0.67      0.71      0.69        17\n",
      "          7       0.93      0.96      0.95        27\n",
      "          8       0.87      1.00      0.93        13\n",
      "          9       1.00      0.89      0.94        28\n",
      "         10       1.00      1.00      1.00        14\n",
      "         11       1.00      0.89      0.94        19\n",
      "\n",
      "avg / total       0.92      0.92      0.92       240\n",
      "\n"
     ]
    }
   ],
   "source": [
    "print(classification_report(one_hot_to_dense(y_valid), y_valid_predict_species))"
   ]
  },
  {
   "cell_type": "code",
   "execution_count": 20,
   "metadata": {},
   "outputs": [
    {
     "data": {
      "image/png": "[encoded data removed]",
      "text/plain": [
       "<matplotlib.figure.Figure at 0x7f88dc511780>"
      ]
     },
     "metadata": {},
     "output_type": "display_data"
    }
   ],
   "source": [
    "abbreviation = ['BG', 'Ch', 'Cl', 'CC', 'CW', 'FH', 'LSB', 'M', 'SM', 'SP', 'SFC', 'SB']\n",
    "\n",
    "\n",
    "fig, ax = plt.subplots(1)\n",
    "ax = sns.heatmap(cnf_matrix, ax=ax, cmap=plt.cm.Greens, annot=True)\n",
    "ax.set_xticklabels(abbreviation)\n",
    "ax.set_yticklabels(abbreviation)\n",
    "plt.title('Confusion matrix of validation set')\n",
    "plt.ylabel('True species')\n",
    "plt.xlabel('Predicted species')\n",
    "plt.show();"
   ]
  },
  {
   "cell_type": "code",
   "execution_count": null,
   "metadata": {},
   "outputs": [],
   "source": []
  },
  {
   "cell_type": "markdown",
   "metadata": {},
   "source": [
    "# Try retraining part of XCeption"
   ]
  },
  {
   "cell_type": "code",
   "execution_count": 21,
   "metadata": {},
   "outputs": [],
   "source": [
    "x_train_valid = np.load(os.path.join(os.getcwd(),'x_train_valid_imgs.npy'))\n",
    "y_train_valid = np.load(os.path.join(os.getcwd(),'y_train_valid.npy'))\n",
    "x_test = np.load(os.path.join(os.getcwd(),'x_test_imgs.npy'))"
   ]
  },
  {
   "cell_type": "code",
   "execution_count": 22,
   "metadata": {},
   "outputs": [],
   "source": [
    "# split into train and validation sets\n",
    "valid_set_size_percentage = 10\n",
    "valid_set_size = int(len(x_train_valid) * valid_set_size_percentage/100);\n",
    "train_set_size = len(x_train_valid) - valid_set_size"
   ]
  },
  {
   "cell_type": "code",
   "execution_count": 23,
   "metadata": {},
   "outputs": [
    {
     "name": "stdout",
     "output_type": "stream",
     "text": [
      "shuffle train and validation data\n"
     ]
    }
   ],
   "source": [
    "# shuffle and train/validation split\n",
    "x_train, y_train, x_valid, y_valid = shuffle_train_valid_data(x_train_valid) "
   ]
  },
  {
   "cell_type": "code",
   "execution_count": 24,
   "metadata": {},
   "outputs": [],
   "source": [
    "x_conv = xception.Xception(weights='imagenet', include_top=False, input_shape=(299, 299, 3), pooling = 'avg')"
   ]
  },
  {
   "cell_type": "code",
   "execution_count": 25,
   "metadata": {},
   "outputs": [],
   "source": [
    "## Freeze the layers except the last 4 layers\n",
    "for layer in x_conv.layers[:-4]:\n",
    "    layer.trainable = False\n",
    " \n",
    "## Check the trainable status of the individual layers\n",
    "#for layer in x_conv.layers:\n",
    "#    print(layer, layer.trainable)"
   ]
  },
  {
   "cell_type": "code",
   "execution_count": 26,
   "metadata": {},
   "outputs": [
    {
     "name": "stdout",
     "output_type": "stream",
     "text": [
      "_________________________________________________________________\n",
      "Layer (type)                 Output Shape              Param #   \n",
      "=================================================================\n",
      "xception (Model)             (None, 2048)              20861480  \n",
      "_________________________________________________________________\n",
      "dense_4 (Dense)              (None, 1024)              2098176   \n",
      "_________________________________________________________________\n",
      "dropout_3 (Dropout)          (None, 1024)              0         \n",
      "_________________________________________________________________\n",
      "dense_5 (Dense)              (None, 256)               262400    \n",
      "_________________________________________________________________\n",
      "dropout_4 (Dropout)          (None, 256)               0         \n",
      "_________________________________________________________________\n",
      "dense_6 (Dense)              (None, 12)                3084      \n",
      "=================================================================\n",
      "Total params: 23,225,140\n",
      "Trainable params: 5,527,308\n",
      "Non-trainable params: 17,697,832\n",
      "_________________________________________________________________\n"
     ]
    }
   ],
   "source": [
    "from keras import models\n",
    "from keras import layers\n",
    "from keras import optimizers\n",
    " \n",
    "# Create the model\n",
    "model = models.Sequential()\n",
    " \n",
    "# Add the vgg convolutional base model\n",
    "model.add(x_conv)\n",
    " \n",
    "# Add new layers\n",
    "#model.add(layers.Flatten())\n",
    "model.add(layers.Dense(1024,  activation='relu'))\n",
    "model.add(layers.Dropout(0.33))\n",
    "model.add(layers.Dense(256, activation='relu'))\n",
    "model.add(layers.Dropout(0.33))\n",
    "model.add(layers.Dense(12, activation='softmax'))\n",
    " \n",
    "# Show a summary of the model. Check the number of trainable parameters\n",
    "model.summary()"
   ]
  },
  {
   "cell_type": "code",
   "execution_count": 27,
   "metadata": {},
   "outputs": [
    {
     "name": "stdout",
     "output_type": "stream",
     "text": [
      "Learning rate:  0.0001\n",
      "Train on 2160 samples, validate on 240 samples\n",
      "Epoch 1/40\n",
      "Learning rate:  0.0001\n",
      "2160/2160 [==============================] - 50s 23ms/step - loss: 1.7833 - acc: 0.4736 - precision: 0.4815 - recall: 0.0713 - f1: nan - val_loss: 1.7510 - val_acc: 0.3958 - val_precision: 0.3758 - val_recall: 0.1333 - val_f1: nan\n",
      "\n",
      "Epoch 00001: val_loss improved from inf to 1.75095, saving model to /tmp/weights.01-1.75.hdf5\n",
      "Epoch 2/40\n",
      "Learning rate:  0.0001\n",
      "  64/2160 [..............................] - ETA: 41s - loss: 1.1606 - acc: 0.7656 - precision: 0.9583 - recall: 0.2812 - f1: 0.4295"
     ]
    },
    {
     "ename": "KeyboardInterrupt",
     "evalue": "",
     "output_type": "error",
     "traceback": [
      "\u001b[0;31m---------------------------------------------------------------------------\u001b[0m",
      "\u001b[0;31mKeyboardInterrupt\u001b[0m                         Traceback (most recent call last)",
      "\u001b[0;32m<ipython-input-27-33468d255801>\u001b[0m in \u001b[0;36m<module>\u001b[0;34m()\u001b[0m\n\u001b[1;32m     16\u001b[0m \u001b[0;34m\u001b[0m\u001b[0m\n\u001b[1;32m     17\u001b[0m \u001b[0;34m\u001b[0m\u001b[0m\n\u001b[0;32m---> 18\u001b[0;31m \u001b[0mhistory\u001b[0m \u001b[0;34m=\u001b[0m \u001b[0mmodel\u001b[0m\u001b[0;34m.\u001b[0m\u001b[0mfit\u001b[0m\u001b[0;34m(\u001b[0m\u001b[0mx\u001b[0m\u001b[0;34m=\u001b[0m\u001b[0mx_train\u001b[0m\u001b[0;34m,\u001b[0m \u001b[0my\u001b[0m\u001b[0;34m=\u001b[0m\u001b[0my_train\u001b[0m\u001b[0;34m,\u001b[0m  \u001b[0mepochs\u001b[0m\u001b[0;34m=\u001b[0m\u001b[0;36m40\u001b[0m\u001b[0;34m,\u001b[0m \u001b[0mverbose\u001b[0m\u001b[0;34m=\u001b[0m\u001b[0;36m1\u001b[0m\u001b[0;34m,\u001b[0m \u001b[0mvalidation_data\u001b[0m\u001b[0;34m=\u001b[0m\u001b[0;34m(\u001b[0m\u001b[0mx_valid\u001b[0m\u001b[0;34m,\u001b[0m \u001b[0my_valid\u001b[0m\u001b[0;34m)\u001b[0m\u001b[0;34m,\u001b[0m \u001b[0mcallbacks\u001b[0m \u001b[0;34m=\u001b[0m \u001b[0;34m[\u001b[0m\u001b[0mtensorboard\u001b[0m\u001b[0;34m,\u001b[0m \u001b[0mcheckpointer\u001b[0m\u001b[0;34m,\u001b[0m \u001b[0mlr\u001b[0m\u001b[0;34m]\u001b[0m\u001b[0;34m)\u001b[0m\u001b[0;34m\u001b[0m\u001b[0m\n\u001b[0m\u001b[1;32m     19\u001b[0m                     \u001b[0;31m#callbacks=None, validation_split=0.0, validation_data=None, shuffle=True,\u001b[0m\u001b[0;34m\u001b[0m\u001b[0;34m\u001b[0m\u001b[0m\n\u001b[1;32m     20\u001b[0m                     \u001b[0;31m#class_weight=None, sample_weight=None, initial_epoch=0, steps_per_epoch=None)\u001b[0m\u001b[0;34m\u001b[0m\u001b[0;34m\u001b[0m\u001b[0m\n",
      "\u001b[0;32m~/anaconda3/envs/tensorflow_p36/lib/python3.6/site-packages/keras/models.py\u001b[0m in \u001b[0;36mfit\u001b[0;34m(self, x, y, batch_size, epochs, verbose, callbacks, validation_split, validation_data, shuffle, class_weight, sample_weight, initial_epoch, steps_per_epoch, validation_steps, **kwargs)\u001b[0m\n\u001b[1;32m    961\u001b[0m                               \u001b[0minitial_epoch\u001b[0m\u001b[0;34m=\u001b[0m\u001b[0minitial_epoch\u001b[0m\u001b[0;34m,\u001b[0m\u001b[0;34m\u001b[0m\u001b[0m\n\u001b[1;32m    962\u001b[0m                               \u001b[0msteps_per_epoch\u001b[0m\u001b[0;34m=\u001b[0m\u001b[0msteps_per_epoch\u001b[0m\u001b[0;34m,\u001b[0m\u001b[0;34m\u001b[0m\u001b[0m\n\u001b[0;32m--> 963\u001b[0;31m                               validation_steps=validation_steps)\n\u001b[0m\u001b[1;32m    964\u001b[0m \u001b[0;34m\u001b[0m\u001b[0m\n\u001b[1;32m    965\u001b[0m     def evaluate(self, x=None, y=None,\n",
      "\u001b[0;32m~/anaconda3/envs/tensorflow_p36/lib/python3.6/site-packages/keras/engine/training.py\u001b[0m in \u001b[0;36mfit\u001b[0;34m(self, x, y, batch_size, epochs, verbose, callbacks, validation_split, validation_data, shuffle, class_weight, sample_weight, initial_epoch, steps_per_epoch, validation_steps, **kwargs)\u001b[0m\n\u001b[1;32m   1710\u001b[0m                               \u001b[0minitial_epoch\u001b[0m\u001b[0;34m=\u001b[0m\u001b[0minitial_epoch\u001b[0m\u001b[0;34m,\u001b[0m\u001b[0;34m\u001b[0m\u001b[0m\n\u001b[1;32m   1711\u001b[0m                               \u001b[0msteps_per_epoch\u001b[0m\u001b[0;34m=\u001b[0m\u001b[0msteps_per_epoch\u001b[0m\u001b[0;34m,\u001b[0m\u001b[0;34m\u001b[0m\u001b[0m\n\u001b[0;32m-> 1712\u001b[0;31m                               validation_steps=validation_steps)\n\u001b[0m\u001b[1;32m   1713\u001b[0m \u001b[0;34m\u001b[0m\u001b[0m\n\u001b[1;32m   1714\u001b[0m     def evaluate(self, x=None, y=None,\n",
      "\u001b[0;32m~/anaconda3/envs/tensorflow_p36/lib/python3.6/site-packages/keras/engine/training.py\u001b[0m in \u001b[0;36m_fit_loop\u001b[0;34m(self, f, ins, out_labels, batch_size, epochs, verbose, callbacks, val_f, val_ins, shuffle, callback_metrics, initial_epoch, steps_per_epoch, validation_steps)\u001b[0m\n\u001b[1;32m   1233\u001b[0m                         \u001b[0mins_batch\u001b[0m\u001b[0;34m[\u001b[0m\u001b[0mi\u001b[0m\u001b[0;34m]\u001b[0m \u001b[0;34m=\u001b[0m \u001b[0mins_batch\u001b[0m\u001b[0;34m[\u001b[0m\u001b[0mi\u001b[0m\u001b[0;34m]\u001b[0m\u001b[0;34m.\u001b[0m\u001b[0mtoarray\u001b[0m\u001b[0;34m(\u001b[0m\u001b[0;34m)\u001b[0m\u001b[0;34m\u001b[0m\u001b[0m\n\u001b[1;32m   1234\u001b[0m \u001b[0;34m\u001b[0m\u001b[0m\n\u001b[0;32m-> 1235\u001b[0;31m                     \u001b[0mouts\u001b[0m \u001b[0;34m=\u001b[0m \u001b[0mf\u001b[0m\u001b[0;34m(\u001b[0m\u001b[0mins_batch\u001b[0m\u001b[0;34m)\u001b[0m\u001b[0;34m\u001b[0m\u001b[0m\n\u001b[0m\u001b[1;32m   1236\u001b[0m                     \u001b[0;32mif\u001b[0m \u001b[0;32mnot\u001b[0m \u001b[0misinstance\u001b[0m\u001b[0;34m(\u001b[0m\u001b[0mouts\u001b[0m\u001b[0;34m,\u001b[0m \u001b[0mlist\u001b[0m\u001b[0;34m)\u001b[0m\u001b[0;34m:\u001b[0m\u001b[0;34m\u001b[0m\u001b[0m\n\u001b[1;32m   1237\u001b[0m                         \u001b[0mouts\u001b[0m \u001b[0;34m=\u001b[0m \u001b[0;34m[\u001b[0m\u001b[0mouts\u001b[0m\u001b[0;34m]\u001b[0m\u001b[0;34m\u001b[0m\u001b[0m\n",
      "\u001b[0;32m~/anaconda3/envs/tensorflow_p36/lib/python3.6/site-packages/keras/backend/tensorflow_backend.py\u001b[0m in \u001b[0;36m__call__\u001b[0;34m(self, inputs)\u001b[0m\n\u001b[1;32m   2473\u001b[0m         \u001b[0msession\u001b[0m \u001b[0;34m=\u001b[0m \u001b[0mget_session\u001b[0m\u001b[0;34m(\u001b[0m\u001b[0;34m)\u001b[0m\u001b[0;34m\u001b[0m\u001b[0m\n\u001b[1;32m   2474\u001b[0m         updated = session.run(fetches=fetches, feed_dict=feed_dict,\n\u001b[0;32m-> 2475\u001b[0;31m                               **self.session_kwargs)\n\u001b[0m\u001b[1;32m   2476\u001b[0m         \u001b[0;32mreturn\u001b[0m \u001b[0mupdated\u001b[0m\u001b[0;34m[\u001b[0m\u001b[0;34m:\u001b[0m\u001b[0mlen\u001b[0m\u001b[0;34m(\u001b[0m\u001b[0mself\u001b[0m\u001b[0;34m.\u001b[0m\u001b[0moutputs\u001b[0m\u001b[0;34m)\u001b[0m\u001b[0;34m]\u001b[0m\u001b[0;34m\u001b[0m\u001b[0m\n\u001b[1;32m   2477\u001b[0m \u001b[0;34m\u001b[0m\u001b[0m\n",
      "\u001b[0;32m~/anaconda3/envs/tensorflow_p36/lib/python3.6/site-packages/tensorflow/python/client/session.py\u001b[0m in \u001b[0;36mrun\u001b[0;34m(self, fetches, feed_dict, options, run_metadata)\u001b[0m\n\u001b[1;32m    893\u001b[0m     \u001b[0;32mtry\u001b[0m\u001b[0;34m:\u001b[0m\u001b[0;34m\u001b[0m\u001b[0m\n\u001b[1;32m    894\u001b[0m       result = self._run(None, fetches, feed_dict, options_ptr,\n\u001b[0;32m--> 895\u001b[0;31m                          run_metadata_ptr)\n\u001b[0m\u001b[1;32m    896\u001b[0m       \u001b[0;32mif\u001b[0m \u001b[0mrun_metadata\u001b[0m\u001b[0;34m:\u001b[0m\u001b[0;34m\u001b[0m\u001b[0m\n\u001b[1;32m    897\u001b[0m         \u001b[0mproto_data\u001b[0m \u001b[0;34m=\u001b[0m \u001b[0mtf_session\u001b[0m\u001b[0;34m.\u001b[0m\u001b[0mTF_GetBuffer\u001b[0m\u001b[0;34m(\u001b[0m\u001b[0mrun_metadata_ptr\u001b[0m\u001b[0;34m)\u001b[0m\u001b[0;34m\u001b[0m\u001b[0m\n",
      "\u001b[0;32m~/anaconda3/envs/tensorflow_p36/lib/python3.6/site-packages/tensorflow/python/client/session.py\u001b[0m in \u001b[0;36m_run\u001b[0;34m(self, handle, fetches, feed_dict, options, run_metadata)\u001b[0m\n\u001b[1;32m   1126\u001b[0m     \u001b[0;32mif\u001b[0m \u001b[0mfinal_fetches\u001b[0m \u001b[0;32mor\u001b[0m \u001b[0mfinal_targets\u001b[0m \u001b[0;32mor\u001b[0m \u001b[0;34m(\u001b[0m\u001b[0mhandle\u001b[0m \u001b[0;32mand\u001b[0m \u001b[0mfeed_dict_tensor\u001b[0m\u001b[0;34m)\u001b[0m\u001b[0;34m:\u001b[0m\u001b[0;34m\u001b[0m\u001b[0m\n\u001b[1;32m   1127\u001b[0m       results = self._do_run(handle, final_targets, final_fetches,\n\u001b[0;32m-> 1128\u001b[0;31m                              feed_dict_tensor, options, run_metadata)\n\u001b[0m\u001b[1;32m   1129\u001b[0m     \u001b[0;32melse\u001b[0m\u001b[0;34m:\u001b[0m\u001b[0;34m\u001b[0m\u001b[0m\n\u001b[1;32m   1130\u001b[0m       \u001b[0mresults\u001b[0m \u001b[0;34m=\u001b[0m \u001b[0;34m[\u001b[0m\u001b[0;34m]\u001b[0m\u001b[0;34m\u001b[0m\u001b[0m\n",
      "\u001b[0;32m~/anaconda3/envs/tensorflow_p36/lib/python3.6/site-packages/tensorflow/python/client/session.py\u001b[0m in \u001b[0;36m_do_run\u001b[0;34m(self, handle, target_list, fetch_list, feed_dict, options, run_metadata)\u001b[0m\n\u001b[1;32m   1342\u001b[0m     \u001b[0;32mif\u001b[0m \u001b[0mhandle\u001b[0m \u001b[0;32mis\u001b[0m \u001b[0;32mNone\u001b[0m\u001b[0;34m:\u001b[0m\u001b[0;34m\u001b[0m\u001b[0m\n\u001b[1;32m   1343\u001b[0m       return self._do_call(_run_fn, self._session, feeds, fetches, targets,\n\u001b[0;32m-> 1344\u001b[0;31m                            options, run_metadata)\n\u001b[0m\u001b[1;32m   1345\u001b[0m     \u001b[0;32melse\u001b[0m\u001b[0;34m:\u001b[0m\u001b[0;34m\u001b[0m\u001b[0m\n\u001b[1;32m   1346\u001b[0m       \u001b[0;32mreturn\u001b[0m \u001b[0mself\u001b[0m\u001b[0;34m.\u001b[0m\u001b[0m_do_call\u001b[0m\u001b[0;34m(\u001b[0m\u001b[0m_prun_fn\u001b[0m\u001b[0;34m,\u001b[0m \u001b[0mself\u001b[0m\u001b[0;34m.\u001b[0m\u001b[0m_session\u001b[0m\u001b[0;34m,\u001b[0m \u001b[0mhandle\u001b[0m\u001b[0;34m,\u001b[0m \u001b[0mfeeds\u001b[0m\u001b[0;34m,\u001b[0m \u001b[0mfetches\u001b[0m\u001b[0;34m)\u001b[0m\u001b[0;34m\u001b[0m\u001b[0m\n",
      "\u001b[0;32m~/anaconda3/envs/tensorflow_p36/lib/python3.6/site-packages/tensorflow/python/client/session.py\u001b[0m in \u001b[0;36m_do_call\u001b[0;34m(self, fn, *args)\u001b[0m\n\u001b[1;32m   1348\u001b[0m   \u001b[0;32mdef\u001b[0m \u001b[0m_do_call\u001b[0m\u001b[0;34m(\u001b[0m\u001b[0mself\u001b[0m\u001b[0;34m,\u001b[0m \u001b[0mfn\u001b[0m\u001b[0;34m,\u001b[0m \u001b[0;34m*\u001b[0m\u001b[0margs\u001b[0m\u001b[0;34m)\u001b[0m\u001b[0;34m:\u001b[0m\u001b[0;34m\u001b[0m\u001b[0m\n\u001b[1;32m   1349\u001b[0m     \u001b[0;32mtry\u001b[0m\u001b[0;34m:\u001b[0m\u001b[0;34m\u001b[0m\u001b[0m\n\u001b[0;32m-> 1350\u001b[0;31m       \u001b[0;32mreturn\u001b[0m \u001b[0mfn\u001b[0m\u001b[0;34m(\u001b[0m\u001b[0;34m*\u001b[0m\u001b[0margs\u001b[0m\u001b[0;34m)\u001b[0m\u001b[0;34m\u001b[0m\u001b[0m\n\u001b[0m\u001b[1;32m   1351\u001b[0m     \u001b[0;32mexcept\u001b[0m \u001b[0merrors\u001b[0m\u001b[0;34m.\u001b[0m\u001b[0mOpError\u001b[0m \u001b[0;32mas\u001b[0m \u001b[0me\u001b[0m\u001b[0;34m:\u001b[0m\u001b[0;34m\u001b[0m\u001b[0m\n\u001b[1;32m   1352\u001b[0m       \u001b[0mmessage\u001b[0m \u001b[0;34m=\u001b[0m \u001b[0mcompat\u001b[0m\u001b[0;34m.\u001b[0m\u001b[0mas_text\u001b[0m\u001b[0;34m(\u001b[0m\u001b[0me\u001b[0m\u001b[0;34m.\u001b[0m\u001b[0mmessage\u001b[0m\u001b[0;34m)\u001b[0m\u001b[0;34m\u001b[0m\u001b[0m\n",
      "\u001b[0;32m~/anaconda3/envs/tensorflow_p36/lib/python3.6/site-packages/tensorflow/python/client/session.py\u001b[0m in \u001b[0;36m_run_fn\u001b[0;34m(session, feed_dict, fetch_list, target_list, options, run_metadata)\u001b[0m\n\u001b[1;32m   1327\u001b[0m           return tf_session.TF_Run(session, options,\n\u001b[1;32m   1328\u001b[0m                                    \u001b[0mfeed_dict\u001b[0m\u001b[0;34m,\u001b[0m \u001b[0mfetch_list\u001b[0m\u001b[0;34m,\u001b[0m \u001b[0mtarget_list\u001b[0m\u001b[0;34m,\u001b[0m\u001b[0;34m\u001b[0m\u001b[0m\n\u001b[0;32m-> 1329\u001b[0;31m                                    status, run_metadata)\n\u001b[0m\u001b[1;32m   1330\u001b[0m \u001b[0;34m\u001b[0m\u001b[0m\n\u001b[1;32m   1331\u001b[0m     \u001b[0;32mdef\u001b[0m \u001b[0m_prun_fn\u001b[0m\u001b[0;34m(\u001b[0m\u001b[0msession\u001b[0m\u001b[0;34m,\u001b[0m \u001b[0mhandle\u001b[0m\u001b[0;34m,\u001b[0m \u001b[0mfeed_dict\u001b[0m\u001b[0;34m,\u001b[0m \u001b[0mfetch_list\u001b[0m\u001b[0;34m)\u001b[0m\u001b[0;34m:\u001b[0m\u001b[0;34m\u001b[0m\u001b[0m\n",
      "\u001b[0;31mKeyboardInterrupt\u001b[0m: "
     ]
    }
   ],
   "source": [
    "# Callbacks\n",
    "tensorboard = TensorBoard(log_dir = './logs')\n",
    "\n",
    "checkpointer = ModelCheckpoint(filepath='/tmp/weights.{epoch:02d}-{val_loss:.2f}.hdf5', verbose=1, save_best_only=True)\n",
    "\n",
    "\n",
    "# Compile the model\n",
    "\n",
    "\n",
    "model.compile(loss='categorical_crossentropy',\n",
    "              optimizer=optimizers.RMSprop(lr=lr_schedule(0)),\n",
    "              metrics=['acc', precision, recall, f1])\n",
    "\n",
    "lr = LearningRateScheduler(lr_schedule)\n",
    "# Train the model\n",
    "\n",
    " \n",
    "history = model.fit(x=x_train, y=y_train,  epochs=40, verbose=1, validation_data=(x_valid, y_valid), callbacks = [tensorboard, checkpointer, lr])\n",
    "                    #callbacks=None, validation_split=0.0, validation_data=None, shuffle=True, \n",
    "                    #class_weight=None, sample_weight=None, initial_epoch=0, steps_per_epoch=None)\n",
    "# Save the model\n",
    "#model.save('small_last4.h5')"
   ]
  },
  {
   "cell_type": "code",
   "execution_count": null,
   "metadata": {},
   "outputs": [],
   "source": []
  }
 ],
 "metadata": {
  "kernelspec": {
   "display_name": "Python 3",
   "language": "python",
   "name": "python3"
  },
  "language_info": {
   "codemirror_mode": {
    "name": "ipython",
    "version": 3
   },
   "file_extension": ".py",
   "mimetype": "text/x-python",
   "name": "python",
   "nbconvert_exporter": "python",
   "pygments_lexer": "ipython3",
   "version": "3.6.4"
  },
  "toc": {
   "nav_menu": {},
   "number_sections": true,
   "sideBar": true,
   "skip_h1_title": false,
   "toc_cell": false,
   "toc_position": {},
   "toc_section_display": "block",
   "toc_window_display": false
  }
 },
 "nbformat": 4,
 "nbformat_minor": 2
}
