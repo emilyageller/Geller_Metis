{
 "cells": [
  {
   "cell_type": "markdown",
   "metadata": {},
   "source": [
    "# DeepSeedlings: Pre-trained CNN with simple classifier\n",
    "\n",
    "Using preprocessed images from DeepSeedlings-Part1. Using the pre-trained Keras Xception CNN (with the last layer 'cut' off), we ran the preprocessed images through the model to obtain Xception's vectorized representation for each image.\n",
    "\n",
    "In this notebook, we build, train and validate simple classifiers as an MVP in order to build a pipeline that specializes in seedling species identification.\n",
    "\n",
    "Better results were obtained in DeepSeedlings-Part2-CNN, where we used transfer learning to build a full Neural Network pipeline."
   ]
  },
  {
   "cell_type": "code",
   "execution_count": 34,
   "metadata": {
    "collapsed": true
   },
   "outputs": [],
   "source": [
    "%matplotlib inline\n",
    "import datetime as dt\n",
    "import matplotlib.pyplot as plt\n",
    "plt.rcParams['figure.figsize'] = [16, 10]\n",
    "plt.rcParams['font.size'] = 16\n",
    "import numpy as np\n",
    "import os\n",
    "import pandas as pd\n",
    "import seaborn as sns\n",
    "import keras\n",
    "from keras import backend as K\n",
    "from keras.applications import xception\n",
    "from keras.preprocessing import image\n",
    "from mpl_toolkits.axes_grid1 import ImageGrid\n",
    "from sklearn.linear_model import LogisticRegression\n",
    "from sklearn.ensemble import RandomForestClassifier\n",
    "from sklearn import metrics\n",
    "from tqdm import tqdm\n",
    "from sklearn.cross_validation import cross_val_score\n",
    "from sklearn.model_selection import KFold"
   ]
  },
  {
   "cell_type": "code",
   "execution_count": 6,
   "metadata": {
    "collapsed": true
   },
   "outputs": [],
   "source": [
    "from keras.applications import xception\n",
    "from keras.models import Model"
   ]
  },
  {
   "cell_type": "code",
   "execution_count": 2,
   "metadata": {
    "collapsed": true
   },
   "outputs": [],
   "source": [
    "import pickle"
   ]
  },
  {
   "cell_type": "code",
   "execution_count": 23,
   "metadata": {
    "collapsed": true
   },
   "outputs": [],
   "source": [
    "def cross_validate(X, y, clf, k=10):\n",
    "    best_score, best_clf = 0.0, None\n",
    "    kfold = KFold(k)\n",
    "    for kid, (train, test) in enumerate(kfold.split(X, y)):\n",
    "        Xtrain, Xtest, ytrain, ytest = X[train], X[test], y[train], y[test]\n",
    "        clf.fit(Xtrain, ytrain)\n",
    "        ytest_ = clf.predict(Xtest)\n",
    "        score = metrics.f1_score(ytest_, ytest, average = 'weighted')\n",
    "        print(\"fold {:d}, score: {:.3f}\".format(kid, score))\n",
    "        if score > best_score:\n",
    "            best_score = score\n",
    "            best_clf = clf\n",
    "    return best_clf, best_score"
   ]
  },
  {
   "cell_type": "code",
   "execution_count": 37,
   "metadata": {
    "collapsed": true
   },
   "outputs": [],
   "source": [
    "def test_report(clf, Xtest, ytest):\n",
    "    ytest_ = clf.predict(Xtest)\n",
    "    print(\"\\nAccuracy Score: {:.3f}\".format(metrics.accuracy_score(ytest_, ytest)))\n",
    "    print('Validation F1 Score: {}'.format(metrics.f1_score(ytest_, ytest, average = 'weighted')))\n",
    "    print(\"\\nConfusion Matrix\")\n",
    "    print(metrics.confusion_matrix(ytest_, ytest))\n",
    "    print(\"\\nClassification Report\")\n",
    "    print(metrics.classification_report(ytest_, ytest))"
   ]
  },
  {
   "cell_type": "code",
   "execution_count": 31,
   "metadata": {
    "collapsed": true
   },
   "outputs": [],
   "source": [
    "SEED = 1987"
   ]
  },
  {
   "cell_type": "markdown",
   "metadata": {},
   "source": [
    "## Xception vectors\n",
    "\n",
    "Load Xception's vectorized representation of each image."
   ]
  },
  {
   "cell_type": "code",
   "execution_count": 3,
   "metadata": {
    "collapsed": true
   },
   "outputs": [],
   "source": [
    "train_x_bf = pickle.load( open( \"train_x_bf.p\", \"rb\" ) )\n",
    "valid_x_bf = pickle.load( open( \"valid_x_bf.p\", \"rb\" ) )\n",
    "ytr = pickle.load(open('ytr.p','rb'))\n",
    "yv = pickle.load(open('yv.p','rb'))"
   ]
  },
  {
   "cell_type": "markdown",
   "metadata": {},
   "source": [
    "### Logistic Regression\n",
    "\n",
    "Best results out of the three simple classifiers I tried."
   ]
  },
  {
   "cell_type": "code",
   "execution_count": 38,
   "metadata": {
    "collapsed": true
   },
   "outputs": [],
   "source": [
    "logreg = LogisticRegression(multi_class='multinomial', solver='lbfgs', random_state=SEED)"
   ]
  },
  {
   "cell_type": "code",
   "execution_count": 39,
   "metadata": {},
   "outputs": [
    {
     "name": "stdout",
     "output_type": "stream",
     "text": [
      "fold 0, score: 0.863\n",
      "fold 1, score: 0.811\n",
      "fold 2, score: 0.814\n",
      "fold 3, score: 0.781\n",
      "fold 4, score: 0.809\n",
      "fold 5, score: 0.800\n",
      "fold 6, score: 0.785\n",
      "fold 7, score: 0.763\n",
      "fold 8, score: 0.806\n",
      "fold 9, score: 0.800\n",
      "\n",
      "Accuracy Score: 0.812\n",
      "Validation F1 Score: 0.8135412124916558\n",
      "\n",
      "Confusion Matrix\n",
      "[[27  0  0  0  1  2  5  0  0  0  0  0]\n",
      " [ 0 31  0  0  0  1  0  1  0  2  1  1]\n",
      " [ 0  4 38  0  0  1  0  0  0  0  0  0]\n",
      " [ 0  1  1 42  0  2  0  0  3  3  0  1]\n",
      " [ 8  0  1  1 29  1  0  0  0  1  0  1]\n",
      " [ 1  0  2  0  0 35  0  0  0  1  0  1]\n",
      " [12  0  1  0  1  0 25  0  1  0  0  0]\n",
      " [ 0  1  0  1  0  1  0 40  1  0  0  0]\n",
      " [ 0  0  0  5  0  0  2  0 27  3  0  1]\n",
      " [ 0  1  0  1  0  0  0  0  7 39  1  0]\n",
      " [ 0  0  0  2  0  0  0  0  0  0 40  0]\n",
      " [ 0  0  0  0  1  1  0  1  1  0  0 34]]\n",
      "\n",
      "Classification Report\n",
      "             precision    recall  f1-score   support\n",
      "\n",
      "          0       0.56      0.77      0.65        35\n",
      "          1       0.82      0.84      0.83        37\n",
      "          2       0.88      0.88      0.88        43\n",
      "          3       0.81      0.79      0.80        53\n",
      "          4       0.91      0.69      0.78        42\n",
      "          5       0.80      0.88      0.83        40\n",
      "          6       0.78      0.62      0.69        40\n",
      "          7       0.95      0.91      0.93        44\n",
      "          8       0.68      0.71      0.69        38\n",
      "          9       0.80      0.80      0.80        49\n",
      "         10       0.95      0.95      0.95        42\n",
      "         11       0.87      0.89      0.88        38\n",
      "\n",
      "avg / total       0.82      0.81      0.81       501\n",
      "\n"
     ]
    }
   ],
   "source": [
    "best_clf, best_score = cross_validate(train_x_bf,ytr,logreg)\n",
    "test_report(best_clf, valid_x_bf, yv)"
   ]
  },
  {
   "cell_type": "markdown",
   "metadata": {},
   "source": [
    "### Random Forests"
   ]
  },
  {
   "cell_type": "code",
   "execution_count": 46,
   "metadata": {
    "collapsed": true
   },
   "outputs": [],
   "source": [
    "rf = RandomForestClassifier(n_estimators = 25)"
   ]
  },
  {
   "cell_type": "code",
   "execution_count": 47,
   "metadata": {},
   "outputs": [
    {
     "name": "stdout",
     "output_type": "stream",
     "text": [
      "fold 0, score: 0.589\n",
      "fold 1, score: 0.617\n",
      "fold 2, score: 0.564\n",
      "fold 3, score: 0.602\n",
      "fold 4, score: 0.611\n",
      "fold 5, score: 0.598\n",
      "fold 6, score: 0.551\n",
      "fold 7, score: 0.577\n",
      "fold 8, score: 0.639\n",
      "fold 9, score: 0.611\n",
      "\n",
      "Accuracy Score: 0.597\n",
      "Validation F1 Score: 0.6011368058558865\n",
      "\n",
      "Confusion Matrix\n",
      "[[26  0  0  1  3  1  6  1  0  0  0  0]\n",
      " [ 1 30  5  0  0  2  0  1  0  9  3  0]\n",
      " [ 0  0 29  2  1  8  0  1  3  5  1  0]\n",
      " [ 0  0  1 22  0  1  0  0  5  1  2  2]\n",
      " [ 8  0  0  0 23  2  4  3  1  1  1  1]\n",
      " [ 0  1  1  3  0 16  1  1  3  1  0  8]\n",
      " [13  0  0  3  1  0 20  0  2  1  0  0]\n",
      " [ 0  0  0  2  0  2  0 32  2  1  0  2]\n",
      " [ 0  2  0 11  3  2  1  1 20  5  0  0]\n",
      " [ 0  2  4  2  0  4  0  0  4 23  2  0]\n",
      " [ 0  3  3  5  0  2  0  0  0  2 33  1]\n",
      " [ 0  0  0  1  1  4  0  2  0  0  0 25]]\n",
      "\n",
      "Classification Report\n",
      "             precision    recall  f1-score   support\n",
      "\n",
      "          0       0.54      0.68      0.60        38\n",
      "          1       0.79      0.59      0.67        51\n",
      "          2       0.67      0.58      0.62        50\n",
      "          3       0.42      0.65      0.51        34\n",
      "          4       0.72      0.52      0.61        44\n",
      "          5       0.36      0.46      0.41        35\n",
      "          6       0.62      0.50      0.56        40\n",
      "          7       0.76      0.78      0.77        41\n",
      "          8       0.50      0.44      0.47        45\n",
      "          9       0.47      0.56      0.51        41\n",
      "         10       0.79      0.67      0.73        49\n",
      "         11       0.64      0.76      0.69        33\n",
      "\n",
      "avg / total       0.62      0.60      0.60       501\n",
      "\n"
     ]
    }
   ],
   "source": [
    "best_clf, best_score = cross_validate(train_x_bf,ytr,rf)\n",
    "test_report(best_clf, valid_x_bf, yv)"
   ]
  },
  {
   "cell_type": "code",
   "execution_count": 51,
   "metadata": {
    "collapsed": true
   },
   "outputs": [],
   "source": [
    "from xgboost import XGBClassifier"
   ]
  },
  {
   "cell_type": "code",
   "execution_count": 53,
   "metadata": {
    "collapsed": true
   },
   "outputs": [],
   "source": [
    "xgb = XGBClassifier()"
   ]
  },
  {
   "cell_type": "code",
   "execution_count": 54,
   "metadata": {},
   "outputs": [
    {
     "name": "stderr",
     "output_type": "stream",
     "text": [
      "/home/ubuntu/anaconda3/lib/python3.6/site-packages/sklearn/preprocessing/label.py:151: DeprecationWarning: The truth value of an empty array is ambiguous. Returning False, but in future this will result in an error. Use `array.size > 0` to check that an array is not empty.\n",
      "  if diff:\n"
     ]
    },
    {
     "name": "stdout",
     "output_type": "stream",
     "text": [
      "fold 0, score: 0.741\n"
     ]
    },
    {
     "name": "stderr",
     "output_type": "stream",
     "text": [
      "/home/ubuntu/anaconda3/lib/python3.6/site-packages/sklearn/preprocessing/label.py:151: DeprecationWarning: The truth value of an empty array is ambiguous. Returning False, but in future this will result in an error. Use `array.size > 0` to check that an array is not empty.\n",
      "  if diff:\n"
     ]
    },
    {
     "name": "stdout",
     "output_type": "stream",
     "text": [
      "fold 1, score: 0.715\n"
     ]
    },
    {
     "name": "stderr",
     "output_type": "stream",
     "text": [
      "/home/ubuntu/anaconda3/lib/python3.6/site-packages/sklearn/preprocessing/label.py:151: DeprecationWarning: The truth value of an empty array is ambiguous. Returning False, but in future this will result in an error. Use `array.size > 0` to check that an array is not empty.\n",
      "  if diff:\n"
     ]
    },
    {
     "name": "stdout",
     "output_type": "stream",
     "text": [
      "fold 2, score: 0.674\n"
     ]
    },
    {
     "name": "stderr",
     "output_type": "stream",
     "text": [
      "/home/ubuntu/anaconda3/lib/python3.6/site-packages/sklearn/preprocessing/label.py:151: DeprecationWarning: The truth value of an empty array is ambiguous. Returning False, but in future this will result in an error. Use `array.size > 0` to check that an array is not empty.\n",
      "  if diff:\n"
     ]
    },
    {
     "name": "stdout",
     "output_type": "stream",
     "text": [
      "fold 3, score: 0.725\n"
     ]
    },
    {
     "name": "stderr",
     "output_type": "stream",
     "text": [
      "/home/ubuntu/anaconda3/lib/python3.6/site-packages/sklearn/preprocessing/label.py:151: DeprecationWarning: The truth value of an empty array is ambiguous. Returning False, but in future this will result in an error. Use `array.size > 0` to check that an array is not empty.\n",
      "  if diff:\n"
     ]
    },
    {
     "name": "stdout",
     "output_type": "stream",
     "text": [
      "fold 4, score: 0.765\n"
     ]
    },
    {
     "name": "stderr",
     "output_type": "stream",
     "text": [
      "/home/ubuntu/anaconda3/lib/python3.6/site-packages/sklearn/preprocessing/label.py:151: DeprecationWarning: The truth value of an empty array is ambiguous. Returning False, but in future this will result in an error. Use `array.size > 0` to check that an array is not empty.\n",
      "  if diff:\n"
     ]
    },
    {
     "name": "stdout",
     "output_type": "stream",
     "text": [
      "fold 5, score: 0.742\n"
     ]
    },
    {
     "name": "stderr",
     "output_type": "stream",
     "text": [
      "/home/ubuntu/anaconda3/lib/python3.6/site-packages/sklearn/preprocessing/label.py:151: DeprecationWarning: The truth value of an empty array is ambiguous. Returning False, but in future this will result in an error. Use `array.size > 0` to check that an array is not empty.\n",
      "  if diff:\n"
     ]
    },
    {
     "name": "stdout",
     "output_type": "stream",
     "text": [
      "fold 6, score: 0.666\n"
     ]
    },
    {
     "name": "stderr",
     "output_type": "stream",
     "text": [
      "/home/ubuntu/anaconda3/lib/python3.6/site-packages/sklearn/preprocessing/label.py:151: DeprecationWarning: The truth value of an empty array is ambiguous. Returning False, but in future this will result in an error. Use `array.size > 0` to check that an array is not empty.\n",
      "  if diff:\n"
     ]
    },
    {
     "name": "stdout",
     "output_type": "stream",
     "text": [
      "fold 7, score: 0.731\n"
     ]
    },
    {
     "name": "stderr",
     "output_type": "stream",
     "text": [
      "/home/ubuntu/anaconda3/lib/python3.6/site-packages/sklearn/preprocessing/label.py:151: DeprecationWarning: The truth value of an empty array is ambiguous. Returning False, but in future this will result in an error. Use `array.size > 0` to check that an array is not empty.\n",
      "  if diff:\n"
     ]
    },
    {
     "name": "stdout",
     "output_type": "stream",
     "text": [
      "fold 8, score: 0.745\n",
      "fold 9, score: 0.768\n",
      "\n",
      "Accuracy Score: 0.762\n",
      "Validation F1 Score: 0.7652968884612183\n",
      "\n",
      "Confusion Matrix\n",
      "[[25  0  0  0  2  0  6  0  0  0  0  0]\n",
      " [ 0 31  1  0  0  1  0  1  0  3  0  1]\n",
      " [ 0  1 37  0  0  3  0  0  1  2  0  1]\n",
      " [ 0  0  1 37  0  2  0  0  4  1  1  2]\n",
      " [ 8  1  0  0 27  1  1  1  0  2  0  2]\n",
      " [ 0  0  1  1  1 29  0  0  0  0  0  4]\n",
      " [15  0  0  0  1  1 24  0  0  0  0  0]\n",
      " [ 0  0  0  0  0  2  0 40  0  0  1  2]\n",
      " [ 0  0  1  6  0  0  1  0 32  2  0  0]\n",
      " [ 0  3  1  3  0  3  0  0  3 33  0  0]\n",
      " [ 0  2  1  4  0  1  0  0  0  5 40  0]\n",
      " [ 0  0  0  1  1  1  0  0  0  1  0 27]]\n",
      "\n",
      "Classification Report\n",
      "             precision    recall  f1-score   support\n",
      "\n",
      "          0       0.52      0.76      0.62        33\n",
      "          1       0.82      0.82      0.82        38\n",
      "          2       0.86      0.82      0.84        45\n",
      "          3       0.71      0.77      0.74        48\n",
      "          4       0.84      0.63      0.72        43\n",
      "          5       0.66      0.81      0.73        36\n",
      "          6       0.75      0.59      0.66        41\n",
      "          7       0.95      0.89      0.92        45\n",
      "          8       0.80      0.76      0.78        42\n",
      "          9       0.67      0.72      0.69        46\n",
      "         10       0.95      0.75      0.84        53\n",
      "         11       0.69      0.87      0.77        31\n",
      "\n",
      "avg / total       0.78      0.76      0.77       501\n",
      "\n"
     ]
    },
    {
     "name": "stderr",
     "output_type": "stream",
     "text": [
      "/home/ubuntu/anaconda3/lib/python3.6/site-packages/sklearn/preprocessing/label.py:151: DeprecationWarning: The truth value of an empty array is ambiguous. Returning False, but in future this will result in an error. Use `array.size > 0` to check that an array is not empty.\n",
      "  if diff:\n",
      "/home/ubuntu/anaconda3/lib/python3.6/site-packages/sklearn/preprocessing/label.py:151: DeprecationWarning: The truth value of an empty array is ambiguous. Returning False, but in future this will result in an error. Use `array.size > 0` to check that an array is not empty.\n",
      "  if diff:\n"
     ]
    }
   ],
   "source": [
    "best_clf, best_score = cross_validate(train_x_bf,ytr,xgb)\n",
    "test_report(best_clf, valid_x_bf, yv)"
   ]
  },
  {
   "cell_type": "code",
   "execution_count": null,
   "metadata": {
    "collapsed": true
   },
   "outputs": [],
   "source": []
  },
  {
   "cell_type": "code",
   "execution_count": 23,
   "metadata": {},
   "outputs": [
    {
     "data": {
      "text/html": [
       "<div>\n",
       "<style scoped>\n",
       "    .dataframe tbody tr th:only-of-type {\n",
       "        vertical-align: middle;\n",
       "    }\n",
       "\n",
       "    .dataframe tbody tr th {\n",
       "        vertical-align: top;\n",
       "    }\n",
       "\n",
       "    .dataframe thead th {\n",
       "        text-align: right;\n",
       "    }\n",
       "</style>\n",
       "<table border=\"1\" class=\"dataframe\">\n",
       "  <thead>\n",
       "    <tr style=\"text-align: right;\">\n",
       "      <th></th>\n",
       "      <th>abbreviation</th>\n",
       "      <th>class</th>\n",
       "    </tr>\n",
       "  </thead>\n",
       "  <tbody>\n",
       "    <tr>\n",
       "      <th>0</th>\n",
       "      <td>BG</td>\n",
       "      <td>Black-grass</td>\n",
       "    </tr>\n",
       "    <tr>\n",
       "      <th>1</th>\n",
       "      <td>Ch</td>\n",
       "      <td>Charlock</td>\n",
       "    </tr>\n",
       "    <tr>\n",
       "      <th>2</th>\n",
       "      <td>Cl</td>\n",
       "      <td>Cleavers</td>\n",
       "    </tr>\n",
       "    <tr>\n",
       "      <th>3</th>\n",
       "      <td>CC</td>\n",
       "      <td>Common Chickweed</td>\n",
       "    </tr>\n",
       "    <tr>\n",
       "      <th>4</th>\n",
       "      <td>CW</td>\n",
       "      <td>Common wheat</td>\n",
       "    </tr>\n",
       "    <tr>\n",
       "      <th>5</th>\n",
       "      <td>FH</td>\n",
       "      <td>Fat Hen</td>\n",
       "    </tr>\n",
       "    <tr>\n",
       "      <th>6</th>\n",
       "      <td>LSB</td>\n",
       "      <td>Loose Silky-bent</td>\n",
       "    </tr>\n",
       "    <tr>\n",
       "      <th>7</th>\n",
       "      <td>M</td>\n",
       "      <td>Maize</td>\n",
       "    </tr>\n",
       "    <tr>\n",
       "      <th>8</th>\n",
       "      <td>SM</td>\n",
       "      <td>Scentless Mayweed</td>\n",
       "    </tr>\n",
       "    <tr>\n",
       "      <th>9</th>\n",
       "      <td>SP</td>\n",
       "      <td>Shepherds Purse</td>\n",
       "    </tr>\n",
       "    <tr>\n",
       "      <th>10</th>\n",
       "      <td>SFC</td>\n",
       "      <td>Small-flowered Cranesbill</td>\n",
       "    </tr>\n",
       "    <tr>\n",
       "      <th>11</th>\n",
       "      <td>SB</td>\n",
       "      <td>Sugar beet</td>\n",
       "    </tr>\n",
       "  </tbody>\n",
       "</table>\n",
       "</div>"
      ],
      "text/plain": [
       "   abbreviation                      class\n",
       "0            BG                Black-grass\n",
       "1            Ch                   Charlock\n",
       "2            Cl                   Cleavers\n",
       "3            CC           Common Chickweed\n",
       "4            CW               Common wheat\n",
       "5            FH                    Fat Hen\n",
       "6           LSB           Loose Silky-bent\n",
       "7             M                      Maize\n",
       "8            SM          Scentless Mayweed\n",
       "9            SP            Shepherds Purse\n",
       "10          SFC  Small-flowered Cranesbill\n",
       "11           SB                 Sugar beet"
      ]
     },
     "execution_count": 23,
     "metadata": {},
     "output_type": "execute_result"
    }
   ],
   "source": [
    "abbreviation = ['BG', 'Ch', 'Cl', 'CC', 'CW', 'FH', 'LSB', 'M', 'SM', 'SP', 'SFC', 'SB']\n",
    "pd.DataFrame({'class': CATEGORIES, 'abbreviation': abbreviation})"
   ]
  },
  {
   "cell_type": "code",
   "execution_count": 24,
   "metadata": {},
   "outputs": [
    {
     "data": {
      "image/png": "[encoded data removed]",
      "text/plain": [
       "<matplotlib.figure.Figure at 0x7f0fcb867278>"
      ]
     },
     "metadata": {},
     "output_type": "display_data"
    }
   ],
   "source": [
    "fig, ax = plt.subplots(1)\n",
    "ax = sns.heatmap(cnf_matrix, ax=ax,  annot=True)\n",
    "ax.set_xticklabels(abbreviation)\n",
    "ax.set_yticklabels(abbreviation)\n",
    "plt.title('Confusion Matrix')\n",
    "plt.ylabel('True class')\n",
    "plt.xlabel('Predicted class')\n",
    "plt.show();"
   ]
  },
  {
   "cell_type": "code",
   "execution_count": 25,
   "metadata": {},
   "outputs": [
    {
     "name": "stderr",
     "output_type": "stream",
     "text": [
      "794it [00:04, 159.66it/s]"
     ]
    },
    {
     "name": "stdout",
     "output_type": "stream",
     "text": [
      "test Images shape: (794, 299, 299, 3) size: 212,953,182\n"
     ]
    },
    {
     "name": "stderr",
     "output_type": "stream",
     "text": [
      "\n"
     ]
    }
   ],
   "source": [
    "x_test = np.zeros((len(test), INPUT_SIZE, INPUT_SIZE, 3), dtype='float32')\n",
    "for i, filepath in tqdm(enumerate(test['filepath'])):\n",
    "    img = read_img(filepath, (INPUT_SIZE, INPUT_SIZE))\n",
    "    x = xception.preprocess_input(np.expand_dims(img.copy(), axis=0))\n",
    "    x_test[i] = x\n",
    "print('test Images shape: {} size: {:,}'.format(x_test.shape, x_test.size))"
   ]
  },
  {
   "cell_type": "code",
   "execution_count": 26,
   "metadata": {},
   "outputs": [
    {
     "name": "stdout",
     "output_type": "stream",
     "text": [
      "794/794 [==============================] - 546s 687ms/step\n",
      "Xception test bottleneck features shape: (794, 2048) size: 1,626,112\n"
     ]
    }
   ],
   "source": [
    "test_x_bf = xception_bottleneck.predict(x_test, batch_size=32, verbose=1)\n",
    "print('Xception test bottleneck features shape: {} size: {:,}'.format(test_x_bf.shape, test_x_bf.size))\n",
    "test_preds = logreg.predict(test_x_bf)"
   ]
  },
  {
   "cell_type": "code",
   "execution_count": null,
   "metadata": {
    "collapsed": true
   },
   "outputs": [],
   "source": []
  }
 ],
 "metadata": {
  "kernelspec": {
   "display_name": "Python 3",
   "language": "python",
   "name": "python3"
  },
  "language_info": {
   "codemirror_mode": {
    "name": "ipython",
    "version": 3
   },
   "file_extension": ".py",
   "mimetype": "text/x-python",
   "name": "python",
   "nbconvert_exporter": "python",
   "pygments_lexer": "ipython3",
   "version": "3.6.3"
  },
  "toc": {
   "nav_menu": {},
   "number_sections": true,
   "sideBar": true,
   "skip_h1_title": false,
   "toc_cell": false,
   "toc_position": {},
   "toc_section_display": "block",
   "toc_window_display": false
  }
 },
 "nbformat": 4,
 "nbformat_minor": 2
}
